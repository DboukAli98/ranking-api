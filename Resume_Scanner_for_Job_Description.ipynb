{
  "cells": [
    {
      "cell_type": "code",
      "execution_count": 3,
      "metadata": {
        "colab": {},
        "colab_type": "code",
        "id": "pT4Yo_9zotkV"
      },
      "outputs": [],
      "source": [
        "#intall the required library\n",
        "#pip install docx2txt\n",
        "\n",
        "import docx2txt\n",
        "import warnings\n",
        "import PyPDF2\n",
        "from pdfminer.high_level import extract_text\n",
        "\n",
        "warnings.filterwarnings('ignore')"
      ]
    },
    {
      "cell_type": "code",
      "execution_count": 4,
      "metadata": {},
      "outputs": [
        {
          "name": "stdout",
          "output_type": "stream",
          "text": [
            "1\n",
            "EDUCATION\n",
            "EXPERIENCE\n",
            "SKILLS\n",
            "HOBBY\n",
            "\n",
            "\n",
            "\n",
            "ALI\n",
            "DBOUK\n",
            "Software Engineer\n",
            "Linkedin\n",
            "linkedin.com/in/ali-dbouk-109442195\n",
            "PROFILE\n",
            "Creative and hard working Software Engineer with skills in\n",
            "Software development and applications and systems\n",
            "development. Presenting 1 and half years of experience in\n",
            "full software development lifespan. Rapidly learn and have\n",
            "a full grip on new technologies and working in both groups\n",
            "and self-directed situations and have the ability and\n",
            "flexibility to work in different working environments.\n",
            "PERSONAL PROJECTS\n",
            "CERTIFICATIONS\n",
            "LANGUAGES\n",
            "Address\n",
            "Tayouneh , Beirut , Lebanon\n",
            "Contact\n",
            "76 632 428\n",
            "dboukali26@gmail.com\n",
            "Date of Birth\n",
            "21.08.1998\n",
            "September 2016\n",
            " - \n",
            "May 2022\n",
            "Antonine University , Baabda\n",
            "Software Engineering , Masters Degree\n",
            "April 2021\n",
            " - \n",
            "October 2021\n",
            "In2info\n",
            "Junior Software Developer\n",
            "Administer the full lifecycle of software development for\n",
            "4 critical projects of the company with 100% on-time\n",
            "delivery .\n",
            "Built an employee attendance system for a smart\n",
            "machines company in Lebanon , the system's goal is to\n",
            "track and geo-locate employees upon home services\n",
            "and delivery.\n",
            "02.2022\n",
            " - \n",
            "present\n",
            "Info-Sys\n",
            "ERP Developer\n",
            "Worked in a team environment on a Field Visits and\n",
            "Reports System for the Saudi Authority of Intellectual\n",
            "Property , under the supervision of Watania Solutions\n",
            "Co (WSC) based in Riyadh , KSA. The system is\n",
            "integrated with a cross-platform mobile application to\n",
            "help citizens reports trademarks and copyrights\n",
            "violations.\n",
            "Object Oriented Programing\n",
            "\n",
            " \n",
            "\n",
            " \n",
            "\n",
            " \n",
            "\n",
            " \n",
            "\n",
            " \n",
            "\n",
            "Full-Stack Web Development\n",
            "\n",
            " \n",
            "\n",
            " \n",
            "\n",
            " \n",
            "\n",
            " \n",
            "\n",
            "Relational Databases\n",
            "\n",
            " \n",
            "\n",
            " \n",
            "\n",
            " \n",
            "\n",
            " \n",
            "\n",
            "Restful API's\n",
            "\n",
            " \n",
            "\n",
            " \n",
            "\n",
            " \n",
            "\n",
            " \n",
            "\n",
            "Microsoft .NET\n",
            "\n",
            " \n",
            "\n",
            " \n",
            "\n",
            " \n",
            "\n",
            " \n",
            "\n",
            "Software Design\n",
            "\n",
            " \n",
            "\n",
            " \n",
            "\n",
            " \n",
            "\n",
            " \n",
            "\n",
            "Microsoft Word\n",
            "\n",
            " \n",
            "\n",
            " \n",
            "\n",
            " \n",
            "\n",
            " \n",
            "\n",
            "Adobe Illustrator\n",
            "\n",
            " \n",
            "\n",
            " \n",
            "\n",
            " \n",
            "\n",
            "Adobe Photoshop\n",
            "\n",
            " \n",
            "\n",
            " \n",
            "\n",
            " \n",
            "\n",
            "Attendance Tracker (Web Application)\n",
            "Web Application made using front-end and back-end\n",
            "stacks (reactjs , js , html ,css , php , mysql)\n",
            "\n",
            "Flight Reservation System (ASP.Net)\n",
            "University class project for online ticket bookings\n",
            "achieved using Microsoft's ASP.NET Core , Entity\n",
            "Framework Core , SQL , Rest API's.\n",
            "\n",
            "Tetris game (python)\n",
            "Simple A.I. Tetris Game made using python\n",
            "\n",
            "Covid-19 Business Intelligence Project (Power BI)\n",
            "\n",
            "Masters Of Software Engineering \n",
            "(2016 - 2022)\n",
            "\n",
            "Cisco Ccna Routing and \n",
            "Switching : Introduction to\n",
            "Networks ( I , II , III , IV )\n",
            "(2017 - 2020)\n",
            "\n",
            "Maharat Min Google : Digital Marketing Training\n",
            "Certificate (2020)\n",
            "\n",
            "Arabic\n",
            "\n",
            " \n",
            "\n",
            " \n",
            "\n",
            " \n",
            "\n",
            " \n",
            "\n",
            " \n",
            "\n",
            "English\n",
            "\n",
            " \n",
            "\n",
            " \n",
            "\n",
            " \n",
            "\n",
            " \n",
            "\n",
            "French\n",
            "\n",
            " \n",
            "\n",
            " \n",
            "\n",
            " \n",
            "\n",
            " \n",
            "\n",
            "\n"
          ]
        }
      ],
      "source": [
        "pdfFileObj = open('Ali_Dbouk_CV_2022_A (1).pdf', 'rb') \n",
        "    \n",
        "# creating a pdf reader object \n",
        "pdfReader = PyPDF2.PdfFileReader(pdfFileObj) \n",
        "    \n",
        "# printing number of pages in pdf file \n",
        "print(pdfReader.numPages) \n",
        "    \n",
        "# creating a page object \n",
        "pageObj = pdfReader.getPage(0) \n",
        "    \n",
        "# extracting text from page \n",
        "contextTextResume = pageObj.extractText()\n",
        "print(contextTextResume) \n",
        "    \n",
        "# closing the pdf file object \n",
        "pdfFileObj.close() "
      ]
    },
    {
      "cell_type": "code",
      "execution_count": 5,
      "metadata": {
        "colab": {},
        "colab_type": "code",
        "id": "NqDoUjFlpHsE"
      },
      "outputs": [],
      "source": [
        "# load the data\n",
        "# resume = docx2txt.process('Ali_Dbouk_CV_2022_A (1).docx')\n",
        "resume = contextTextResume\n",
        "# job = docx2txt.process('python-job-description.docx')\n",
        "text2 = \"Job Objective:Your role as Full Stack Developer is to be responsible for developing and designing front end web architecture, user interactions on web pages, back-end website applications, and ensuring the responsiveness of applications.You will also review interface codes, monitor, and assess the building of appealing frontend apps and integrate codes within both sides.Main Tasks:Coordinate with the Integration Team Leader on new system ideas, designs, and client-based ideas to produce a dynamic full stacked programDesign & monitor and develop the client-side and server-side architecture.Develop, maintain, and support all integration processes, including but not limited to (USSD, SMPP, IVR, Provisioning, Charging, and SMS Service Subscription).Write application interface codes using JavaScript following react.js workflows and integrate designs and wireframes within the application interface code.Oversee the front-end of applications through appealing visual design, develop responsive web UI, and optimize components to work seamlessly across different browsers and devices.Test software on both client & server side to ensure responsiveness and efficiency & report regularly on system and service performance against key quality and availability targets and continue to expand the capacity of the system to keep up with rapid growth.Write technical documentation for both client & server side and present findings to the Integration Team LeaderQualifications:Bachelor’s degree in CEE, Computer Science, or relevant field.3+ years of experience as a Full Stack Developer.Previous experience creating front-end applications using HTML5, Angular, or React.Previous experience with JavaScript Development on both client and server-side.Modern frameworks and design patterns.Familiarity with JavaScript frameworks such as Angular JS, React, and Amber.Proficiency with server-side languages such as Python, Ruby, Java, PHP, and .Net.Familiarity with database technology such as MySQL, Oracle, and MongoDB.Strong work knowledge of Spring and Spring boot framework.Create secure RESTful-based web services in XML and JSON, Javascript, JQuery, version control (SVN, Git).\""
      ]
    },
    {
      "cell_type": "code",
      "execution_count": 6,
      "metadata": {
        "colab": {
          "base_uri": "https://localhost:8080/",
          "height": 156
        },
        "colab_type": "code",
        "id": "ciJsuAJrpZMi",
        "outputId": "d967743a-9383-4857-8ecd-4c708604d771"
      },
      "outputs": [
        {
          "data": {
            "text/plain": [
              "\"EDUCATION\\nEXPERIENCE\\nSKILLS\\nHOBBY\\n\\ue733\\n\\ue73b\\n\\ue6f8\\nALI\\nDBOUK\\nSoftware Engineer\\nLinkedin\\nlinkedin.com/in/ali-dbouk-109442195\\nPROFILE\\nCreative and hard working Software Engineer with skills in\\nSoftware development and applications and systems\\ndevelopment. Presenting 1 and half years of experience in\\nfull software development lifespan. Rapidly learn and have\\na full grip on new technologies and working in both groups\\nand self-directed situations and have the ability and\\nflexibility to work in different working environments.\\nPERSONAL PROJECTS\\nCERTIFICATIONS\\nLANGUAGES\\nAddress\\nTayouneh , Beirut , Lebanon\\nContact\\n76 632 428\\ndboukali26@gmail.com\\nDate of Birth\\n21.08.1998\\nSeptember 2016\\n - \\nMay 2022\\nAntonine University , Baabda\\nSoftware Engineering , Masters Degree\\nApril 2021\\n - \\nOctober 2021\\nIn2info\\nJunior Software Developer\\nAdminister the full lifecycle of software development for\\n4 critical projects of the company with 100% on-time\\ndelivery .\\nBuilt an employee attendance system for a smart\\nmachines company in Lebanon , the system's goal is to\\ntrack and geo-locate employees upon home services\\nand delivery.\\n02.2022\\n - \\npresent\\nInfo-Sys\\nERP Developer\\nWorked in a team environment on a Field Visits and\\nReports System for the Saudi Authority of Intellectual\\nProperty , under the supervision of Watania Solutions\\nCo (WSC) based in Riyadh , KSA. The system is\\nintegrated with a cross-platform mobile application to\\nhelp citizens reports trademarks and copyrights\\nviolations.\\nObject Oriented Programing\\n\\ue900\\n \\n\\ue900\\n \\n\\ue900\\n \\n\\ue900\\n \\n\\ue900\\n \\n\\ue900\\nFull-Stack Web Development\\n\\ue900\\n \\n\\ue900\\n \\n\\ue900\\n \\n\\ue900\\n \\n\\ue900\\nRelational Databases\\n\\ue900\\n \\n\\ue900\\n \\n\\ue900\\n \\n\\ue900\\n \\n\\ue900\\nRestful API's\\n\\ue900\\n \\n\\ue900\\n \\n\\ue900\\n \\n\\ue900\\n \\n\\ue900\\nMicrosoft .NET\\n\\ue900\\n \\n\\ue900\\n \\n\\ue900\\n \\n\\ue900\\n \\n\\ue900\\nSoftware Design\\n\\ue900\\n \\n\\ue900\\n \\n\\ue900\\n \\n\\ue900\\n \\n\\ue900\\nMicrosoft Word\\n\\ue900\\n \\n\\ue900\\n \\n\\ue900\\n \\n\\ue900\\n \\n\\ue900\\nAdobe Illustrator\\n\\ue900\\n \\n\\ue900\\n \\n\\ue900\\n \\n\\ue900\\nAdobe Photoshop\\n\\ue900\\n \\n\\ue900\\n \\n\\ue900\\n \\n\\ue900\\nAttendance Tracker (Web Application)\\nWeb Application made using front-end and back-end\\nstacks (reactjs , js , html ,css , php , mysql)\\n\\ue777\\nFlight Reservation System (ASP.Net)\\nUniversity class project for online ticket bookings\\nachieved using Microsoft's ASP.NET Core , Entity\\nFramework Core , SQL , Rest API's.\\n\\ue777\\nTetris game (python)\\nSimple A.I. Tetris Game made using python\\n\\ue777\\nCovid-19 Business Intelligence Project (Power BI)\\n\\ue777\\nMasters Of Software Engineering \\n(2016 - 2022)\\n\\ue777\\nCisco Ccna Routing and \\nSwitching : Introduction to\\nNetworks ( I , II , III , IV )\\n(2017 - 2020)\\n\\ue777\\nMaharat Min Google : Digital Marketing Training\\nCertificate (2020)\\n\\ue777\\nArabic\\n\\ue757\\n \\n\\ue757\\n \\n\\ue757\\n \\n\\ue757\\n \\n\\ue757\\n \\n\\ue757\\nEnglish\\n\\ue757\\n \\n\\ue757\\n \\n\\ue757\\n \\n\\ue757\\n \\n\\ue757\\nFrench\\n\\ue757\\n \\n\\ue757\\n \\n\\ue757\\n \\n\\ue757\\n \\n\\ue757\\n\""
            ]
          },
          "execution_count": 6,
          "metadata": {},
          "output_type": "execute_result"
        }
      ],
      "source": [
        "# printing the resume\n",
        "resume"
      ]
    },
    {
      "cell_type": "code",
      "execution_count": 7,
      "metadata": {
        "colab": {
          "base_uri": "https://localhost:8080/",
          "height": 156
        },
        "colab_type": "code",
        "id": "bo7IIqkxpap7",
        "outputId": "fec3c761-1527-44e5-8a59-7ce2183d795f"
      },
      "outputs": [
        {
          "data": {
            "text/plain": [
              "'Job Objective:Your role as Full Stack Developer is to be responsible for developing and designing front end web architecture, user interactions on web pages, back-end website applications, and ensuring the responsiveness of applications.You will also review interface codes, monitor, and assess the building of appealing frontend apps and integrate codes within both sides.Main Tasks:Coordinate with the Integration Team Leader on new system ideas, designs, and client-based ideas to produce a dynamic full stacked programDesign & monitor and develop the client-side and server-side architecture.Develop, maintain, and support all integration processes, including but not limited to (USSD, SMPP, IVR, Provisioning, Charging, and SMS Service Subscription).Write application interface codes using JavaScript following react.js workflows and integrate designs and wireframes within the application interface code.Oversee the front-end of applications through appealing visual design, develop responsive web UI, and optimize components to work seamlessly across different browsers and devices.Test software on both client & server side to ensure responsiveness and efficiency & report regularly on system and service performance against key quality and availability targets and continue to expand the capacity of the system to keep up with rapid growth.Write technical documentation for both client & server side and present findings to the Integration Team LeaderQualifications:Bachelor’s degree in CEE, Computer Science, or relevant field.3+ years of experience as a Full Stack Developer.Previous experience creating front-end applications using HTML5, Angular, or React.Previous experience with JavaScript Development on both client and server-side.Modern frameworks and design patterns.Familiarity with JavaScript frameworks such as Angular JS, React, and Amber.Proficiency with server-side languages such as Python, Ruby, Java, PHP, and .Net.Familiarity with database technology such as MySQL, Oracle, and MongoDB.Strong work knowledge of Spring and Spring boot framework.Create secure RESTful-based web services in XML and JSON, Javascript, JQuery, version control (SVN, Git).'"
            ]
          },
          "execution_count": 7,
          "metadata": {},
          "output_type": "execute_result"
        }
      ],
      "source": [
        "#print the job description\n",
        "text2"
      ]
    },
    {
      "cell_type": "code",
      "execution_count": 8,
      "metadata": {
        "colab": {},
        "colab_type": "code",
        "id": "jg8sSwoopb9Q"
      },
      "outputs": [],
      "source": [
        "# a list of text\n",
        "\n",
        "text = [resume,text2]"
      ]
    },
    {
      "cell_type": "code",
      "execution_count": 9,
      "metadata": {
        "colab": {},
        "colab_type": "code",
        "id": "yuZ3dpn7piP3"
      },
      "outputs": [],
      "source": [
        "from sklearn.feature_extraction.text import CountVectorizer\n",
        "\n",
        "cv = CountVectorizer()\n",
        "count_matrix = cv.fit_transform(text)"
      ]
    },
    {
      "cell_type": "code",
      "execution_count": 10,
      "metadata": {
        "colab": {
          "base_uri": "https://localhost:8080/",
          "height": 56
        },
        "colab_type": "code",
        "id": "QbjBzHu7ptPN",
        "outputId": "5661ebf7-537e-44f8-83f7-cbf2be75c381"
      },
      "outputs": [
        {
          "name": "stdout",
          "output_type": "stream",
          "text": [
            "Similarity score :  [[1.         0.61008468]\n",
            " [0.61008468 1.        ]]\n"
          ]
        }
      ],
      "source": [
        "# import cosine similarity \n",
        "\n",
        "from sklearn.metrics.pairwise import cosine_similarity\n",
        "\n",
        "#print similarity score\n",
        "\n",
        "print('Similarity score : ',cosine_similarity(count_matrix))"
      ]
    },
    {
      "cell_type": "code",
      "execution_count": 11,
      "metadata": {
        "colab": {
          "base_uri": "https://localhost:8080/",
          "height": 36
        },
        "colab_type": "code",
        "id": "tM68SAs1qB7G",
        "outputId": "35941908-9485-44bd-a884-1b6488975d61"
      },
      "outputs": [
        {
          "name": "stdout",
          "output_type": "stream",
          "text": [
            "Your Resume 61.01 % match to the job description !\n"
          ]
        }
      ],
      "source": [
        "# get the percentage\n",
        "matchpercentage = cosine_similarity(count_matrix)[0][1]\n",
        "matchpercentage = round(matchpercentage*100,2)\n",
        "print('Your Resume {} % match to the job description !'.format(matchpercentage))"
      ]
    }
  ],
  "metadata": {
    "colab": {
      "collapsed_sections": [],
      "name": "Resume_Scanner_for_Job_Description.ipynb",
      "provenance": []
    },
    "kernelspec": {
      "display_name": "Python 3.9.12 ('base')",
      "language": "python",
      "name": "python3"
    },
    "language_info": {
      "codemirror_mode": {
        "name": "ipython",
        "version": 3
      },
      "file_extension": ".py",
      "mimetype": "text/x-python",
      "name": "python",
      "nbconvert_exporter": "python",
      "pygments_lexer": "ipython3",
      "version": "3.9.12"
    },
    "vscode": {
      "interpreter": {
        "hash": "40d3a090f54c6569ab1632332b64b2c03c39dcf918b08424e98f38b5ae0af88f"
      }
    }
  },
  "nbformat": 4,
  "nbformat_minor": 0
}
